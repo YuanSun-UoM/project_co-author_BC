{
 "cells": [
  {
   "cell_type": "code",
   "execution_count": 1,
   "id": "56ffe3d8-387d-4cd7-ad7e-5a72063f7af0",
   "metadata": {},
   "outputs": [
    {
     "ename": "ModuleNotFoundError",
     "evalue": "No module named 'scipy'",
     "output_type": "error",
     "traceback": [
      "\u001b[0;31m---------------------------------------------------------------------------\u001b[0m",
      "\u001b[0;31mModuleNotFoundError\u001b[0m                       Traceback (most recent call last)",
      "Cell \u001b[0;32mIn[1], line 7\u001b[0m\n\u001b[1;32m      5\u001b[0m \u001b[38;5;28;01mimport\u001b[39;00m \u001b[38;5;21;01msys\u001b[39;00m\u001b[38;5;241m,\u001b[39m \u001b[38;5;21;01mos\u001b[39;00m\n\u001b[1;32m      6\u001b[0m \u001b[38;5;28;01mimport\u001b[39;00m \u001b[38;5;21;01mmatplotlib\u001b[39;00m\n\u001b[0;32m----> 7\u001b[0m \u001b[38;5;28;01mimport\u001b[39;00m \u001b[38;5;21;01mscipy\u001b[39;00m\u001b[38;5;21;01m.\u001b[39;00m\u001b[38;5;21;01mio\u001b[39;00m\u001b[38;5;241m,\u001b[39m \u001b[38;5;21;01mnumpy\u001b[39;00m\n\u001b[1;32m      8\u001b[0m \u001b[38;5;28;01mimport\u001b[39;00m \u001b[38;5;21;01mpandas\u001b[39;00m \u001b[38;5;28;01mas\u001b[39;00m \u001b[38;5;21;01mpd\u001b[39;00m\n\u001b[1;32m      9\u001b[0m \u001b[38;5;28;01mimport\u001b[39;00m \u001b[38;5;21;01mmatplotlib\u001b[39;00m \u001b[38;5;28;01mas\u001b[39;00m \u001b[38;5;21;01mmpl\u001b[39;00m\n",
      "\u001b[0;31mModuleNotFoundError\u001b[0m: No module named 'scipy'"
     ]
    }
   ],
   "source": [
    "# Load \n",
    "import warnings\n",
    "warnings.filterwarnings('ignore')\n",
    "\n",
    "import sys, os\n",
    "import matplotlib\n",
    "import scipy.io, numpy\n",
    "import pandas as pd\n",
    "import matplotlib as mpl\n",
    "import matplotlib.pyplot as plt\n",
    "import numpy as np\n",
    "import xarray as xr \n",
    "import time\n",
    "import datetime\n",
    "import cmaps \n",
    "import dill #save session \n",
    "import matplotlib.pylab as pl\n",
    "\n",
    "#Map functions\n",
    "import cartopy.crs as ccrs\n",
    "from cartopy.mpl.gridliner import LONGITUDE_FORMATTER, LATITUDE_FORMATTER\n",
    "import matplotlib.ticker as mticker\n",
    "from matplotlib.colors import from_levels_and_colors\n",
    "import matplotlib.colors as colors\n",
    "import matplotlib as mpl\n",
    "import cartopy.feature as cfeature  \n",
    "from cartopy.util import add_cyclic_point"
   ]
  },
  {
   "cell_type": "code",
   "execution_count": null,
   "id": "4a98ac04-85e0-4510-a9ec-9da3ce958212",
   "metadata": {},
   "outputs": [],
   "source": [
    "# Read files\n",
    "file_dr = '/compyfs/yaoy233/Cases_GCCN/Sep_2023/BC_DRE_test2/run/'\n",
    "fs = file_dr + 'bc_dre_yearly_latlon.nc'\n",
    "ds =  xr.open_dataset(fs)\n",
    "lat  = ds['lat']\n",
    "lon  = ds['lon']\n",
    "var1  = ds['FSNT'] - ds['FSNT_d1']\n",
    "var3  = ds['FLNT'] - ds['FLNT_d1']\n",
    "BC_DRE = var1 + var3\n",
    "\n",
    "var2  = ds['FSNTC'] - ds['FSNTC_d1']\n",
    "var4  = ds['FLNTC'] - ds['FLNTC_d1']\n",
    "\n",
    "print(np.mean(var1, axis=(0,1,2)))\n",
    "print(np.mean(var3, axis=(1,2)))"
   ]
  },
  {
   "cell_type": "code",
   "execution_count": null,
   "id": "b13ef391-e003-4a61-8b07-bb1acbf0c467",
   "metadata": {},
   "outputs": [],
   "source": [
    "lat  = ds['lat']\n",
    "lon  = ds['lon']\n",
    "var1  = ds['FSNT'] - ds['FSNT_d1']\n",
    "var2  = ds['FSNTC'] - ds['FSNTC_d1']"
   ]
  },
  {
   "cell_type": "code",
   "execution_count": null,
   "id": "84d466f5-5e44-43ec-a442-7873bce6b968",
   "metadata": {},
   "outputs": [],
   "source": [
    "#Make the plot\n",
    "\n",
    "plt.figure(figsize=(12,6))\n",
    "cmap = cmaps.WhiteBlueGreenYellowRed\n",
    "mpl.rcParams['font.size'] = 11\n",
    "props = dict(boxstyle='round', facecolor='white', alpha=0.9)\n",
    "\n",
    "#plt.subplot1\n",
    "ax1  = plt.subplot(projection=ccrs.Robinson(180))\n",
    "clev = np.linspace(-0.2,0.2,9)\n",
    "im = plt.contourf(lon, lat, var1[0], clev, cmap=cmap, \n",
    "                            transform = ccrs.PlateCarree(), extend='both')\n",
    "plt.text(.95, .0, \"avg= %.3f \"%(np.mean(var1)), \n",
    "         ha='right', va='bottom', transform=ax1.transAxes, bbox=props)\n",
    "ax1.coastlines()\n",
    "ax1.add_feature(cfeature.COASTLINE)\n",
    "ax1.gridlines()\n",
    "ax1.set_title(r'BC Direct radiative effect at TOA $\\rm (W m^{-2})$')\n",
    "cb = plt.colorbar(orientation='horizontal', fraction=0.046, pad=0.04, aspect=30)"
   ]
  },
  {
   "cell_type": "code",
   "execution_count": null,
   "id": "657a13f6-7b91-4b7c-aff6-596a817b64d1",
   "metadata": {},
   "outputs": [],
   "source": [
    "fig, axs = plt.subplots(1,2, figsize=(12,4), facecolor='w', edgecolor='k')\n",
    "mpl.rcParams['font.size'] = 11\n",
    "props = dict(boxstyle='round', facecolor='white', alpha=0.9)\n",
    "axs = axs.ravel()\n",
    "#cmap = cmaps.WhiteBlueGreenYellowRed\n",
    "\n",
    "\n",
    "axs[0] = plt.subplot(1,2,1,projection=ccrs.Robinson(0))\n",
    "clev = np.linspace(0,2,11)\n",
    "im = plt.contourf(lon, lat, np.mean(var1, axis=0), clev, cmap=\"viridis\",\n",
    "                            #norm=colors.LogNorm(vmin=1e1, vmax=3e2),\n",
    "                            transform = ccrs.PlateCarree(), extend='both')\n",
    "plt.text(.95, .05, \"avg= %.2f \"%(np.mean(var1)), \n",
    "         ha='right', va='bottom', transform=axs[0].transAxes, bbox=props)\n",
    "cb = plt.colorbar(orientation='horizontal', fraction=0.06, pad=0.04)#, aspect=30, pad=0.1)\n",
    "axs[0].coastlines()\n",
    "axs[0].add_feature(cfeature.COASTLINE)\n",
    "axs[0].gridlines()\n",
    "axs[0].set_title(r'BC DRE at TOA $\\rm (W m^{-2})$')\n",
    "\n",
    "axs[1] = plt.subplot(1,2,2,projection=ccrs.Robinson(0))\n",
    "im = plt.contourf(lon, lat, np.mean(var1, axis=0), clev, cmap=\"viridis\",\n",
    "                transform = ccrs.PlateCarree(), extend='both')\n",
    "plt.text(.95, .05, \"avg= %.2f \"%(np.mean(var2)), \n",
    "         ha='right', va='bottom', transform=axs[1].transAxes, bbox=props)\n",
    "axs[1].coastlines()\n",
    "axs[1].add_feature(cfeature.COASTLINE)\n",
    "axs[1].gridlines()\n",
    "axs[1].set_title(r'BC clearsky DRE at TOA $\\rm (W m^{-2})$')\n",
    "\n",
    "cb = plt.colorbar(orientation='horizontal', fraction=0.06, pad=0.04)#, aspect=30, pad=0.1)\n",
    "\n",
    "plt.tight_layout()"
   ]
  }
 ],
 "metadata": {
  "kernelspec": {
   "display_name": "Python 3 (ipykernel)",
   "language": "python",
   "name": "python3"
  },
  "language_info": {
   "codemirror_mode": {
    "name": "ipython",
    "version": 3
   },
   "file_extension": ".py",
   "mimetype": "text/x-python",
   "name": "python",
   "nbconvert_exporter": "python",
   "pygments_lexer": "ipython3",
   "version": "3.9.6"
  }
 },
 "nbformat": 4,
 "nbformat_minor": 5
}
